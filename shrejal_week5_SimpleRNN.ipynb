{
  "nbformat": 4,
  "nbformat_minor": 0,
  "metadata": {
    "colab": {
      "provenance": []
    },
    "kernelspec": {
      "name": "python3",
      "display_name": "Python 3"
    },
    "language_info": {
      "name": "python"
    }
  },
  "cells": [
    {
      "cell_type": "code",
      "execution_count": 13,
      "metadata": {
        "id": "TWNpxS_tECbU"
      },
      "outputs": [],
      "source": [
        "import pandas as pd\n",
        "import numpy as np"
      ]
    },
    {
      "cell_type": "code",
      "source": [
        "sentences = [\n",
        "    \"The weather is so pleasant today\",\n",
        "    \"I enjoyed the book I read last night\",\n",
        "    \"Her kindness made everyone smile\",\n",
        "    \"The sunset over the lake was breathtaking\",\n",
        "    \"I feel so motivated to start a new project\",\n",
        "    \"The performance was outstanding and memorable\",\n",
        "    \"This park is the perfect place to relax\",\n",
        "    \"I am proud of the progress we’ve made\",\n",
        "    \"Helping someone in need always feels rewarding\",\n",
        "    \"Tomorrow holds so much promise and hope\",\n",
        "    \"The room is too cluttered and uncomfortable\",\n",
        "    \"I find it hard to focus in such noisy surroundings\",\n",
        "    \"The movie was boring and dragged on for too long\",\n",
        "    \"The customer service was unhelpful and rude\",\n",
        "    \"I regret not being more prepared for the meeting\",\n",
        "    \"Your creativity always amazes me\",\n",
        "    \"The cake you baked tastes incredible\",\n",
        "    \"It feels so satisfying to complete a challenging task\",\n",
        "    \"The garden is blooming with vibrant colors\",\n",
        "    \"Spending time with loved ones always makes my day better\"\n",
        "]"
      ],
      "metadata": {
        "id": "dzOGrCklEm-Z"
      },
      "execution_count": 14,
      "outputs": []
    },
    {
      "cell_type": "code",
      "source": [
        "labels = [1, 1, 1, 1, 1, 1, 1, 1, 1, 1, 0, 0, 0, 0, 0, 1, 1, 1, 1, 1]"
      ],
      "metadata": {
        "id": "oPQultvOEpti"
      },
      "execution_count": 65,
      "outputs": []
    },
    {
      "cell_type": "code",
      "source": [
        "from tensorflow.keras.preprocessing.text import Tokenizer"
      ],
      "metadata": {
        "id": "xJil_rxLEqsk"
      },
      "execution_count": 16,
      "outputs": []
    },
    {
      "cell_type": "code",
      "source": [
        "tokens = Tokenizer(oov_token = 'oov')\n",
        "tokens.fit_on_texts(sentences)"
      ],
      "metadata": {
        "id": "T2E5gCq6FwtP"
      },
      "execution_count": 17,
      "outputs": []
    },
    {
      "cell_type": "code",
      "source": [
        "vocab = tokens.word_index"
      ],
      "metadata": {
        "id": "bAdhDa5jFzwS"
      },
      "execution_count": 18,
      "outputs": []
    },
    {
      "cell_type": "code",
      "source": [
        "vocab"
      ],
      "metadata": {
        "colab": {
          "base_uri": "https://localhost:8080/"
        },
        "id": "TBuu01A_F2yB",
        "outputId": "1c2012b0-79b1-4a39-90a0-7c4a1f42b5ea"
      },
      "execution_count": 19,
      "outputs": [
        {
          "output_type": "execute_result",
          "data": {
            "text/plain": [
              "{'oov': 1,\n",
              " 'the': 2,\n",
              " 'i': 3,\n",
              " 'and': 4,\n",
              " 'is': 5,\n",
              " 'so': 6,\n",
              " 'was': 7,\n",
              " 'to': 8,\n",
              " 'always': 9,\n",
              " 'made': 10,\n",
              " 'a': 11,\n",
              " 'in': 12,\n",
              " 'feels': 13,\n",
              " 'too': 14,\n",
              " 'it': 15,\n",
              " 'for': 16,\n",
              " 'with': 17,\n",
              " 'weather': 18,\n",
              " 'pleasant': 19,\n",
              " 'today': 20,\n",
              " 'enjoyed': 21,\n",
              " 'book': 22,\n",
              " 'read': 23,\n",
              " 'last': 24,\n",
              " 'night': 25,\n",
              " 'her': 26,\n",
              " 'kindness': 27,\n",
              " 'everyone': 28,\n",
              " 'smile': 29,\n",
              " 'sunset': 30,\n",
              " 'over': 31,\n",
              " 'lake': 32,\n",
              " 'breathtaking': 33,\n",
              " 'feel': 34,\n",
              " 'motivated': 35,\n",
              " 'start': 36,\n",
              " 'new': 37,\n",
              " 'project': 38,\n",
              " 'performance': 39,\n",
              " 'outstanding': 40,\n",
              " 'memorable': 41,\n",
              " 'this': 42,\n",
              " 'park': 43,\n",
              " 'perfect': 44,\n",
              " 'place': 45,\n",
              " 'relax': 46,\n",
              " 'am': 47,\n",
              " 'proud': 48,\n",
              " 'of': 49,\n",
              " 'progress': 50,\n",
              " 'we’ve': 51,\n",
              " 'helping': 52,\n",
              " 'someone': 53,\n",
              " 'need': 54,\n",
              " 'rewarding': 55,\n",
              " 'tomorrow': 56,\n",
              " 'holds': 57,\n",
              " 'much': 58,\n",
              " 'promise': 59,\n",
              " 'hope': 60,\n",
              " 'room': 61,\n",
              " 'cluttered': 62,\n",
              " 'uncomfortable': 63,\n",
              " 'find': 64,\n",
              " 'hard': 65,\n",
              " 'focus': 66,\n",
              " 'such': 67,\n",
              " 'noisy': 68,\n",
              " 'surroundings': 69,\n",
              " 'movie': 70,\n",
              " 'boring': 71,\n",
              " 'dragged': 72,\n",
              " 'on': 73,\n",
              " 'long': 74,\n",
              " 'customer': 75,\n",
              " 'service': 76,\n",
              " 'unhelpful': 77,\n",
              " 'rude': 78,\n",
              " 'regret': 79,\n",
              " 'not': 80,\n",
              " 'being': 81,\n",
              " 'more': 82,\n",
              " 'prepared': 83,\n",
              " 'meeting': 84,\n",
              " 'your': 85,\n",
              " 'creativity': 86,\n",
              " 'amazes': 87,\n",
              " 'me': 88,\n",
              " 'cake': 89,\n",
              " 'you': 90,\n",
              " 'baked': 91,\n",
              " 'tastes': 92,\n",
              " 'incredible': 93,\n",
              " 'satisfying': 94,\n",
              " 'complete': 95,\n",
              " 'challenging': 96,\n",
              " 'task': 97,\n",
              " 'garden': 98,\n",
              " 'blooming': 99,\n",
              " 'vibrant': 100,\n",
              " 'colors': 101,\n",
              " 'spending': 102,\n",
              " 'time': 103,\n",
              " 'loved': 104,\n",
              " 'ones': 105,\n",
              " 'makes': 106,\n",
              " 'my': 107,\n",
              " 'day': 108,\n",
              " 'better': 109}"
            ]
          },
          "metadata": {},
          "execution_count": 19
        }
      ]
    },
    {
      "cell_type": "code",
      "source": [
        "tokenizer = Tokenizer()\n",
        "tokenizer.fit_on_texts(sentences)\n",
        "\n",
        "sequence = tokenizer.texts_to_sequences(sentences)\n",
        "\n",
        "print(sequence)"
      ],
      "metadata": {
        "colab": {
          "base_uri": "https://localhost:8080/"
        },
        "id": "vgvDlltYGbg6",
        "outputId": "637cc3e8-4a29-491b-9924-74e1a91795a3"
      },
      "execution_count": 51,
      "outputs": [
        {
          "output_type": "stream",
          "name": "stdout",
          "text": [
            "[[1, 17, 4, 5, 18, 19], [2, 20, 1, 21, 2, 22, 23, 24], [25, 26, 9, 27, 28], [1, 29, 30, 1, 31, 6, 32], [2, 33, 5, 34, 7, 35, 10, 36, 37], [1, 38, 6, 39, 3, 40], [41, 42, 4, 1, 43, 44, 7, 45], [2, 46, 47, 48, 1, 49, 50, 9], [51, 52, 11, 53, 8, 12, 54], [55, 56, 5, 57, 58, 3, 59], [1, 60, 4, 13, 61, 3, 62], [2, 63, 14, 64, 7, 65, 11, 66, 67, 68], [1, 69, 6, 70, 3, 71, 72, 15, 13, 73], [1, 74, 75, 6, 76, 3, 77], [2, 78, 79, 80, 81, 82, 15, 1, 83], [84, 85, 8, 86, 87], [1, 88, 89, 90, 91, 92], [14, 12, 5, 93, 7, 94, 10, 95, 96], [1, 97, 4, 98, 16, 99, 100], [101, 102, 16, 103, 104, 8, 105, 106, 107, 108]]\n"
          ]
        }
      ]
    },
    {
      "cell_type": "code",
      "source": [
        "print(tokenizer.word_index)"
      ],
      "metadata": {
        "colab": {
          "base_uri": "https://localhost:8080/"
        },
        "id": "byDE88NuGtNX",
        "outputId": "9d66b503-81a2-4dc1-9c08-e2acb9dc11f9"
      },
      "execution_count": 52,
      "outputs": [
        {
          "output_type": "stream",
          "name": "stdout",
          "text": [
            "{'the': 1, 'i': 2, 'and': 3, 'is': 4, 'so': 5, 'was': 6, 'to': 7, 'always': 8, 'made': 9, 'a': 10, 'in': 11, 'feels': 12, 'too': 13, 'it': 14, 'for': 15, 'with': 16, 'weather': 17, 'pleasant': 18, 'today': 19, 'enjoyed': 20, 'book': 21, 'read': 22, 'last': 23, 'night': 24, 'her': 25, 'kindness': 26, 'everyone': 27, 'smile': 28, 'sunset': 29, 'over': 30, 'lake': 31, 'breathtaking': 32, 'feel': 33, 'motivated': 34, 'start': 35, 'new': 36, 'project': 37, 'performance': 38, 'outstanding': 39, 'memorable': 40, 'this': 41, 'park': 42, 'perfect': 43, 'place': 44, 'relax': 45, 'am': 46, 'proud': 47, 'of': 48, 'progress': 49, 'we’ve': 50, 'helping': 51, 'someone': 52, 'need': 53, 'rewarding': 54, 'tomorrow': 55, 'holds': 56, 'much': 57, 'promise': 58, 'hope': 59, 'room': 60, 'cluttered': 61, 'uncomfortable': 62, 'find': 63, 'hard': 64, 'focus': 65, 'such': 66, 'noisy': 67, 'surroundings': 68, 'movie': 69, 'boring': 70, 'dragged': 71, 'on': 72, 'long': 73, 'customer': 74, 'service': 75, 'unhelpful': 76, 'rude': 77, 'regret': 78, 'not': 79, 'being': 80, 'more': 81, 'prepared': 82, 'meeting': 83, 'your': 84, 'creativity': 85, 'amazes': 86, 'me': 87, 'cake': 88, 'you': 89, 'baked': 90, 'tastes': 91, 'incredible': 92, 'satisfying': 93, 'complete': 94, 'challenging': 95, 'task': 96, 'garden': 97, 'blooming': 98, 'vibrant': 99, 'colors': 100, 'spending': 101, 'time': 102, 'loved': 103, 'ones': 104, 'makes': 105, 'my': 106, 'day': 107, 'better': 108}\n"
          ]
        }
      ]
    },
    {
      "cell_type": "code",
      "source": [
        "from tensorflow.keras.preprocessing.sequence import pad_sequences\n",
        "\n",
        "sequence= pad_sequences(sequence, maxlen=6, padding='post', truncating='post')\n",
        "\n",
        "print(sequence)\n"
      ],
      "metadata": {
        "colab": {
          "base_uri": "https://localhost:8080/"
        },
        "id": "l1nl-QwBGu8C",
        "outputId": "c9faf03f-cef0-4f9f-d07a-5fbca80143da"
      },
      "execution_count": 53,
      "outputs": [
        {
          "output_type": "stream",
          "name": "stdout",
          "text": [
            "[[  1  17   4   5  18  19]\n",
            " [  2  20   1  21   2  22]\n",
            " [ 25  26   9  27  28   0]\n",
            " [  1  29  30   1  31   6]\n",
            " [  2  33   5  34   7  35]\n",
            " [  1  38   6  39   3  40]\n",
            " [ 41  42   4   1  43  44]\n",
            " [  2  46  47  48   1  49]\n",
            " [ 51  52  11  53   8  12]\n",
            " [ 55  56   5  57  58   3]\n",
            " [  1  60   4  13  61   3]\n",
            " [  2  63  14  64   7  65]\n",
            " [  1  69   6  70   3  71]\n",
            " [  1  74  75   6  76   3]\n",
            " [  2  78  79  80  81  82]\n",
            " [ 84  85   8  86  87   0]\n",
            " [  1  88  89  90  91  92]\n",
            " [ 14  12   5  93   7  94]\n",
            " [  1  97   4  98  16  99]\n",
            " [101 102  16 103 104   8]]\n"
          ]
        }
      ]
    },
    {
      "cell_type": "code",
      "source": [
        "sequence.shape"
      ],
      "metadata": {
        "colab": {
          "base_uri": "https://localhost:8080/"
        },
        "id": "EQnAkpThHa-D",
        "outputId": "82739e1c-9323-4408-ff0b-41008f647abb"
      },
      "execution_count": 54,
      "outputs": [
        {
          "output_type": "execute_result",
          "data": {
            "text/plain": [
              "(20, 6)"
            ]
          },
          "metadata": {},
          "execution_count": 54
        }
      ]
    },
    {
      "cell_type": "code",
      "source": [
        "sequence.shape[0]"
      ],
      "metadata": {
        "colab": {
          "base_uri": "https://localhost:8080/"
        },
        "id": "y6uOoZGGHe8c",
        "outputId": "35e1b535-9522-44d9-8ee0-5b7dd645f46e"
      },
      "execution_count": 55,
      "outputs": [
        {
          "output_type": "execute_result",
          "data": {
            "text/plain": [
              "20"
            ]
          },
          "metadata": {},
          "execution_count": 55
        }
      ]
    },
    {
      "cell_type": "code",
      "source": [
        "labels = np.array(label).reshape(-1)"
      ],
      "metadata": {
        "id": "Kt01wEOYHjgF"
      },
      "execution_count": 58,
      "outputs": []
    },
    {
      "cell_type": "code",
      "source": [
        "from keras.models import Sequential\n",
        "from keras.layers import SimpleRNN,Dense"
      ],
      "metadata": {
        "id": "HVb0pX8vHnOj"
      },
      "execution_count": 59,
      "outputs": []
    },
    {
      "cell_type": "code",
      "source": [
        "model = Sequential()"
      ],
      "metadata": {
        "id": "D8GrkmL4Hp1P"
      },
      "execution_count": 61,
      "outputs": []
    },
    {
      "cell_type": "code",
      "source": [
        "model.add(SimpleRNN(1, input_shape=(sequence.shape[1],1), activation = 'relu' ))\n",
        "model.add(Dense(1, activation = 'sigmoid'))"
      ],
      "metadata": {
        "colab": {
          "base_uri": "https://localhost:8080/"
        },
        "id": "ZsRaIhoDHsca",
        "outputId": "d93686d9-b173-47dc-ac8c-080ba81a3597"
      },
      "execution_count": 62,
      "outputs": [
        {
          "output_type": "stream",
          "name": "stderr",
          "text": [
            "/usr/local/lib/python3.10/dist-packages/keras/src/layers/rnn/rnn.py:204: UserWarning: Do not pass an `input_shape`/`input_dim` argument to a layer. When using Sequential models, prefer using an `Input(shape)` object as the first layer in the model instead.\n",
            "  super().__init__(**kwargs)\n"
          ]
        }
      ]
    },
    {
      "cell_type": "code",
      "source": [
        "model.compile(optimizer='adam', loss='binary_crossentropy', metrics=['accuracy'])"
      ],
      "metadata": {
        "id": "dykvWbtbHxHZ"
      },
      "execution_count": 63,
      "outputs": []
    },
    {
      "cell_type": "code",
      "source": [
        "print(f\"Label length: {len(labels)}\")\n",
        "print(f\"Sequence shape: {sequence.shape}\")"
      ],
      "metadata": {
        "colab": {
          "base_uri": "https://localhost:8080/"
        },
        "id": "EIkdgah4J6lO",
        "outputId": "2b6ea98c-bcfb-4620-9697-686853642adf"
      },
      "execution_count": 66,
      "outputs": [
        {
          "output_type": "stream",
          "name": "stdout",
          "text": [
            "Label length: 20\n",
            "Sequence shape: (20, 6)\n"
          ]
        }
      ]
    },
    {
      "cell_type": "code",
      "source": [
        "import numpy as np\n",
        "\n",
        "sequence = np.array(sequence)\n",
        "labels = np.array(labels)\n",
        "\n",
        "\n",
        "model.fit(sequence, labels, epochs=5)\n"
      ],
      "metadata": {
        "colab": {
          "base_uri": "https://localhost:8080/"
        },
        "id": "PuF_TcdcK8sB",
        "outputId": "e788500a-758a-4b04-8cc1-ab3bbc50870e"
      },
      "execution_count": 67,
      "outputs": [
        {
          "output_type": "stream",
          "name": "stdout",
          "text": [
            "Epoch 1/5\n",
            "\u001b[1m1/1\u001b[0m \u001b[32m━━━━━━━━━━━━━━━━━━━━\u001b[0m\u001b[37m\u001b[0m \u001b[1m2s\u001b[0m 2s/step - accuracy: 0.2500 - loss: 0.6931\n",
            "Epoch 2/5\n",
            "\u001b[1m1/1\u001b[0m \u001b[32m━━━━━━━━━━━━━━━━━━━━\u001b[0m\u001b[37m\u001b[0m \u001b[1m0s\u001b[0m 34ms/step - accuracy: 0.7500 - loss: 0.6929\n",
            "Epoch 3/5\n",
            "\u001b[1m1/1\u001b[0m \u001b[32m━━━━━━━━━━━━━━━━━━━━\u001b[0m\u001b[37m\u001b[0m \u001b[1m0s\u001b[0m 36ms/step - accuracy: 0.7500 - loss: 0.6926\n",
            "Epoch 4/5\n",
            "\u001b[1m1/1\u001b[0m \u001b[32m━━━━━━━━━━━━━━━━━━━━\u001b[0m\u001b[37m\u001b[0m \u001b[1m0s\u001b[0m 39ms/step - accuracy: 0.7500 - loss: 0.6924\n",
            "Epoch 5/5\n",
            "\u001b[1m1/1\u001b[0m \u001b[32m━━━━━━━━━━━━━━━━━━━━\u001b[0m\u001b[37m\u001b[0m \u001b[1m0s\u001b[0m 40ms/step - accuracy: 0.7500 - loss: 0.6921\n"
          ]
        },
        {
          "output_type": "execute_result",
          "data": {
            "text/plain": [
              "<keras.src.callbacks.history.History at 0x7ca92168b8b0>"
            ]
          },
          "metadata": {},
          "execution_count": 67
        }
      ]
    },
    {
      "cell_type": "code",
      "source": [
        "test=[\"I'm having a bad day today\"]"
      ],
      "metadata": {
        "id": "CzGJojDULEx9"
      },
      "execution_count": 68,
      "outputs": []
    },
    {
      "cell_type": "code",
      "source": [
        "test = tokens.texts_to_sequences(test)"
      ],
      "metadata": {
        "id": "3jkUw-KULJ2f"
      },
      "execution_count": 70,
      "outputs": []
    },
    {
      "cell_type": "code",
      "source": [
        "test = pad_sequences(test, padding = 'post', truncating = 'post', maxlen = 6)"
      ],
      "metadata": {
        "id": "dFm8eK4cL4qa"
      },
      "execution_count": 71,
      "outputs": []
    },
    {
      "cell_type": "code",
      "source": [
        "test"
      ],
      "metadata": {
        "colab": {
          "base_uri": "https://localhost:8080/"
        },
        "id": "qOD-oQ-vL7m7",
        "outputId": "e410cb5b-2a75-4856-bb2f-e0810bb40c7f"
      },
      "execution_count": 72,
      "outputs": [
        {
          "output_type": "execute_result",
          "data": {
            "text/plain": [
              "array([[  1,   1,  11,   1, 108,  20]], dtype=int32)"
            ]
          },
          "metadata": {},
          "execution_count": 72
        }
      ]
    },
    {
      "cell_type": "code",
      "source": [
        "test.shape"
      ],
      "metadata": {
        "colab": {
          "base_uri": "https://localhost:8080/"
        },
        "id": "I3zbOIUsMB2J",
        "outputId": "8ffc1aef-87a3-4301-be20-70f59afc7d46"
      },
      "execution_count": 73,
      "outputs": [
        {
          "output_type": "execute_result",
          "data": {
            "text/plain": [
              "(1, 6)"
            ]
          },
          "metadata": {},
          "execution_count": 73
        }
      ]
    },
    {
      "cell_type": "code",
      "source": [
        "model.predict(test)"
      ],
      "metadata": {
        "colab": {
          "base_uri": "https://localhost:8080/"
        },
        "id": "8OCt3iWGMDEA",
        "outputId": "8bbe5582-2a44-444d-b343-69e2902362b7"
      },
      "execution_count": 74,
      "outputs": [
        {
          "output_type": "stream",
          "name": "stdout",
          "text": [
            "\u001b[1m1/1\u001b[0m \u001b[32m━━━━━━━━━━━━━━━━━━━━\u001b[0m\u001b[37m\u001b[0m \u001b[1m0s\u001b[0m 147ms/step\n"
          ]
        },
        {
          "output_type": "execute_result",
          "data": {
            "text/plain": [
              "array([[0.50124985]], dtype=float32)"
            ]
          },
          "metadata": {},
          "execution_count": 74
        }
      ]
    },
    {
      "cell_type": "code",
      "source": [
        "tokens.word_index"
      ],
      "metadata": {
        "colab": {
          "base_uri": "https://localhost:8080/"
        },
        "id": "zKf31lmDMFoH",
        "outputId": "98d8f770-57b7-4bdd-a9e7-e2e274eec09d"
      },
      "execution_count": 75,
      "outputs": [
        {
          "output_type": "execute_result",
          "data": {
            "text/plain": [
              "{'oov': 1,\n",
              " 'the': 2,\n",
              " 'i': 3,\n",
              " 'and': 4,\n",
              " 'is': 5,\n",
              " 'so': 6,\n",
              " 'was': 7,\n",
              " 'to': 8,\n",
              " 'always': 9,\n",
              " 'made': 10,\n",
              " 'a': 11,\n",
              " 'in': 12,\n",
              " 'feels': 13,\n",
              " 'too': 14,\n",
              " 'it': 15,\n",
              " 'for': 16,\n",
              " 'with': 17,\n",
              " 'weather': 18,\n",
              " 'pleasant': 19,\n",
              " 'today': 20,\n",
              " 'enjoyed': 21,\n",
              " 'book': 22,\n",
              " 'read': 23,\n",
              " 'last': 24,\n",
              " 'night': 25,\n",
              " 'her': 26,\n",
              " 'kindness': 27,\n",
              " 'everyone': 28,\n",
              " 'smile': 29,\n",
              " 'sunset': 30,\n",
              " 'over': 31,\n",
              " 'lake': 32,\n",
              " 'breathtaking': 33,\n",
              " 'feel': 34,\n",
              " 'motivated': 35,\n",
              " 'start': 36,\n",
              " 'new': 37,\n",
              " 'project': 38,\n",
              " 'performance': 39,\n",
              " 'outstanding': 40,\n",
              " 'memorable': 41,\n",
              " 'this': 42,\n",
              " 'park': 43,\n",
              " 'perfect': 44,\n",
              " 'place': 45,\n",
              " 'relax': 46,\n",
              " 'am': 47,\n",
              " 'proud': 48,\n",
              " 'of': 49,\n",
              " 'progress': 50,\n",
              " 'we’ve': 51,\n",
              " 'helping': 52,\n",
              " 'someone': 53,\n",
              " 'need': 54,\n",
              " 'rewarding': 55,\n",
              " 'tomorrow': 56,\n",
              " 'holds': 57,\n",
              " 'much': 58,\n",
              " 'promise': 59,\n",
              " 'hope': 60,\n",
              " 'room': 61,\n",
              " 'cluttered': 62,\n",
              " 'uncomfortable': 63,\n",
              " 'find': 64,\n",
              " 'hard': 65,\n",
              " 'focus': 66,\n",
              " 'such': 67,\n",
              " 'noisy': 68,\n",
              " 'surroundings': 69,\n",
              " 'movie': 70,\n",
              " 'boring': 71,\n",
              " 'dragged': 72,\n",
              " 'on': 73,\n",
              " 'long': 74,\n",
              " 'customer': 75,\n",
              " 'service': 76,\n",
              " 'unhelpful': 77,\n",
              " 'rude': 78,\n",
              " 'regret': 79,\n",
              " 'not': 80,\n",
              " 'being': 81,\n",
              " 'more': 82,\n",
              " 'prepared': 83,\n",
              " 'meeting': 84,\n",
              " 'your': 85,\n",
              " 'creativity': 86,\n",
              " 'amazes': 87,\n",
              " 'me': 88,\n",
              " 'cake': 89,\n",
              " 'you': 90,\n",
              " 'baked': 91,\n",
              " 'tastes': 92,\n",
              " 'incredible': 93,\n",
              " 'satisfying': 94,\n",
              " 'complete': 95,\n",
              " 'challenging': 96,\n",
              " 'task': 97,\n",
              " 'garden': 98,\n",
              " 'blooming': 99,\n",
              " 'vibrant': 100,\n",
              " 'colors': 101,\n",
              " 'spending': 102,\n",
              " 'time': 103,\n",
              " 'loved': 104,\n",
              " 'ones': 105,\n",
              " 'makes': 106,\n",
              " 'my': 107,\n",
              " 'day': 108,\n",
              " 'better': 109}"
            ]
          },
          "metadata": {},
          "execution_count": 75
        }
      ]
    },
    {
      "cell_type": "code",
      "source": [],
      "metadata": {
        "id": "8WBbToxGMILr"
      },
      "execution_count": null,
      "outputs": []
    }
  ]
}